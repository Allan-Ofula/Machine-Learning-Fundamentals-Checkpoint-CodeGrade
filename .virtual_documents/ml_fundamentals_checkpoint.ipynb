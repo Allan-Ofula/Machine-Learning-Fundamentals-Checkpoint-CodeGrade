





# Run this cell without changes
import pandas as pd

# Read in CSV file
df = pd.read_csv("ames.csv", index_col=0)
# Keep only numeric data
df = df.select_dtypes(include="number")
# Keep only columns with no missing values
df = df.dropna(axis=1)
df.head()








# CodeGrade step1.1
# Replace None with appropriate code
X = df.drop(columns=["SalePrice"])
y = df["SalePrice"]


# Checking the type and shape of X
assert type(X) == pd.DataFrame
assert X.shape == (1460, 33)

# Checking the type and shape of y
assert type(y) == pd.Series
assert y.shape == (1460,)





# CodeGrade step1.2
# Replace None with appropriate code

# Import the train_test_split function
from sklearn.model_selection import train_test_split

# Perform train-test split. Replace None for test_size and random_state!
X_train, X_test, y_train, y_test = train_test_split(X, y, test_size=0.4, random_state=42)


# Checking the shapes
# (If this fails, make sure you specified the appropriate test_size)
assert X_train.shape == (876, 33)
assert y_train.shape == (876,)

# Checking the contents
# (If this fails, make sure you specified the appropriate random_state)
assert X_train.iloc[100]["YearBuilt"] == 1947
assert y_train.iloc[100] == 110000





# CodeGrade step2
# Replace None with appropriate code

# Import StandardScaler
from sklearn.preprocessing import StandardScaler

# Instantiate a scaler object
scaler = StandardScaler()

# Fit the scaler on X_train and transform X_train
X_train_scaled = scaler.fit_transform(X_train)

# Transform X_test
X_test_scaled = scaler.transform(X_test)


import numpy as np

# scaler should be a StandardScaler
assert type(scaler) == StandardScaler
# scaler should be fitted
assert type(scaler.mean_) == np.ndarray

# X_train_scaled should have the same shape
# as X_train but with different contents
assert X_train_scaled.shape == X_train.shape
assert X_train_scaled[0][0] != X_train.iloc[0].iloc[0]

# Same goes for X_test_scaled
assert X_test_scaled.shape == X_test.shape
assert X_test_scaled[0][0] != X_test.iloc[0].iloc[0]





# CodeGrade step3
# Replace None with appropriate code

# Import Ridge model from scikit-learn
from sklearn.linear_model import Ridge

# Instantiate the model
model = Ridge(alpha=100, solver="sag", random_state=1)

# Fit the model on the scaled training data
model.fit(X_train_scaled, y_train)


# model should be a Ridge regressor
assert type(model) == Ridge

# model should be fitted
assert type(model.coef_) == np.ndarray





# CodeGrade step4.1
# Replace None with appropriate code
y_pred_train = model.predict(X_train_scaled)
y_pred_test = model.predict(X_test_scaled)


# Both should be NumPy arrays
assert type(y_pred_train) == np.ndarray
assert type(y_pred_test) == np.ndarray

# Should have the same shapes as y_train and y_test, respectively
assert y_pred_train.shape == y_train.shape
assert y_pred_test.shape == y_test.shape





# CodeGrade step4.2
# Replace None with appropriate code

from sklearn.metrics import mean_squared_error, r2_score

# Calculating RMSE
train_rmse = mean_squared_error(y_train, y_pred_train, squared=False)
test_rmse = mean_squared_error(y_test, y_pred_test, squared=False)

# Calculating R-squared
train_r2 = r2_score(y_train, y_pred_train)
test_r2 = r2_score(y_test, y_pred_test)

print(f"""
RMSE
Train: {train_rmse} \t Test: {test_rmse}

R-squared
Train: {train_r2} \t Test: {test_r2}
""")


# RMSE scores should be floating point numbers
assert type(train_rmse) == np.float64 or type(train_rmse) == float
assert type(test_rmse) == np.float64 or type(test_rmse) == float


# R-squared scores should be floating point numbers
assert type(train_r2) == np.float64 or type(train_r2) == float
assert type(test_r2) == np.float64 or type(test_r2) == float





# Run this cell without changes
scores = pd.DataFrame([
    {"Model": "Linear Regression", "Train RMSE": 33633.14, "Test RMSE": 39255.80},
    {"Model": "Ridge Regression", "Train RMSE": 33910.84, "Test RMSE": 39213.66},
])
scores.set_index("Model", inplace=True)
scores.style.format("${:,.2f}")








# CodeGrade step5
# Replace None with appropriate code
best_model_name = "Ridge Regression"


# Should be "Linear Regression" or "Ridge Regression"
assert best_model_name in ["Linear Regression", "Ridge Regression"]
